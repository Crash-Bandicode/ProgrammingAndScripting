{
 "cells": [
  {
   "cell_type": "markdown",
   "metadata": {},
   "source": [
    "# Task 1 - Create Repository and Push."
   ]
  },
  {
   "cell_type": "markdown",
   "metadata": {},
   "source": [
    "#### Completed."
   ]
  },
  {
   "cell_type": "markdown",
   "metadata": {},
   "source": [
    "# Task 2 - BMI Calculator:"
   ]
  },
  {
   "cell_type": "code",
   "execution_count": 15,
   "metadata": {},
   "outputs": [
    {
     "name": "stdout",
     "output_type": "stream",
     "text": [
      "Please enter height in centimeters:180\n",
      "Please enter weight in Kg:65\n",
      "Your BMI is:20.061728395061728\n"
     ]
    }
   ],
   "source": [
    "# Program that takes two inputs (height & weight) from a  user\n",
    "# and then uses them as variables to calculate a person's BMI.\n",
    "\n",
    "# Get inputs from user, converting from string to int for use later:\n",
    "height = int(input(\"Please enter height in centimeters:\"))\n",
    "weight = int(input(\"Please enter weight in Kg:\"))\n",
    "\n",
    "# Convert height to meters for calculation:\n",
    "heightMeters = height/100\n",
    "\n",
    "# Square height in meters:\n",
    "heightSquared = heightMeters ** 2\n",
    "\n",
    "# The use inputs to calculate BMI:\n",
    "BMI = weight/heightSquared\n",
    "\n",
    "# print BMI to user\n",
    "print(\"Your BMI is:\" + str(BMI))"
   ]
  },
  {
   "cell_type": "markdown",
   "metadata": {},
   "source": [
    "# Task 3 - Slicing Strings:"
   ]
  },
  {
   "cell_type": "code",
   "execution_count": 11,
   "metadata": {},
   "outputs": [
    {
     "name": "stdout",
     "output_type": "stream",
     "text": [
      "Please enter a string:The quick brown fox jumps over the lazy dog.\n",
      ".o zletrv pu o wr cu h\n"
     ]
    }
   ],
   "source": [
    "# Program that takes a string as an input\n",
    "# and then returns every second letter in reverse order\n",
    "\n",
    "# Take user input\n",
    "string = input(\"Please enter a string:\")\n",
    "\n",
    "# Get every second letter\n",
    "everySecondLetter = string[1::2]\n",
    "\n",
    "# then reverse the result\n",
    "reversedString = everySecondLetter[::-1]\n",
    "\n",
    "# Print to show user\n",
    "print(reversedString)"
   ]
  },
  {
   "cell_type": "markdown",
   "metadata": {},
   "source": [
    "# Task 4 - Loops "
   ]
  },
  {
   "cell_type": "code",
   "execution_count": 3,
   "metadata": {},
   "outputs": [
    {
     "name": "stdout",
     "output_type": "stream",
     "text": [
      "Please enter a positive integer:10\n",
      "5.0\n",
      "16.0\n",
      "8.0\n",
      "4.0\n",
      "2.0\n",
      "1.0\n"
     ]
    }
   ],
   "source": [
    "# Program that takes a positive integer from the user\n",
    "# and then applies the following function to it, outputing the values\n",
    "# of each step:\n",
    "\n",
    "# at each step calculate the next value by taking the current value\n",
    "# and, if it is even, divide it by two, but if it is odd,\n",
    "# mulitply it by 3 and add 1.\n",
    "\n",
    "# Program ends if value == 1\n",
    "\n",
    "# Get input from user & convert fro str to int. Store as variable:\n",
    "number = int(input(\"Please enter a positive integer:\"))\n",
    "\n",
    "# Create while loop that acts on variable ubntil variable == 1:\n",
    "while number != 1:\n",
    "    # if statements divide outcomes into 2 possibiities based on if \n",
    "    # number is odd or even, using the modulo operator.\n",
    "    # if even divide by 2:\n",
    "    if number%2 == 0:\n",
    "        number = number / 2\n",
    "    # if odd multiply by 3 and add 1\n",
    "    elif number%2 != 0:\n",
    "        number = (number * 3) + 1\n",
    "    # Print value within while loop to get each iterative value \n",
    "    print(number)"
   ]
  },
  {
   "cell_type": "markdown",
   "metadata": {},
   "source": [
    "# Task 5 - Weekday:"
   ]
  },
  {
   "cell_type": "code",
   "execution_count": 1,
   "metadata": {},
   "outputs": [
    {
     "name": "stdout",
     "output_type": "stream",
     "text": [
      "It is the weekend, yay!\n"
     ]
    }
   ],
   "source": [
    "# Program that outputs whether or not it is a weekday.\n",
    "\n",
    "# Import 'datetime' library so we can use its functions:\n",
    "from datetime import datetime\n",
    "\n",
    "# Create variable equal to value of below function,\n",
    "# which will give the day of the week indexed as follows:\n",
    "# Monday-Sunday as 0-6 respectively:\n",
    "dayOfWeek = datetime.today().weekday()\n",
    "\n",
    "#Create if/else statement to calculate day of week and print result accordingly:\n",
    "if dayOfWeek <= 4:\n",
    "    print(\"Yes, unfortunately today is a weekday.\")\n",
    "else:\n",
    "    print(\"It is the weekend, yay!\")"
   ]
  },
  {
   "cell_type": "markdown",
   "metadata": {},
   "source": [
    "# Task 6 - Newtons Square Root:"
   ]
  },
  {
   "cell_type": "code",
   "execution_count": 35,
   "metadata": {},
   "outputs": [
    {
     "name": "stdout",
     "output_type": "stream",
     "text": [
      "PLease enter a number:81\n",
      "The square root of 81.0 is approx: 9.0\n"
     ]
    }
   ],
   "source": [
    "# Program that takes a positive floating point number as an input\n",
    "# and outputs an approximation of it's square root.\n",
    "\n",
    "# get number from user input\n",
    "num = float(input(\"PLease enter a number:\"))\n",
    "\n",
    "# create a function called sqrt that takes an arguement 'num':\n",
    "def sqrt(num):\n",
    "    # create loose approximation of sqaure root by halfing number\n",
    "    approx = num * 0.5\n",
    "    # Then use Newtons method to create a better estimation of the root:\n",
    "    better = (0.5 * (approx + (num/approx)))\n",
    "    \n",
    "    # Now use a while loop with a condition that compares the two approximations\n",
    "    # and continues to iterate through approximations by storing the better\n",
    "    # approximation as the original approximation, thus getting a better approximation \n",
    "    # with each iteration. The difference between the two should tend towards 0\n",
    "    # and once the difference is negligable the while loop will stop and return\n",
    "    # the best approximation as the square root.\n",
    "    while better != approx:\n",
    "        approx = better\n",
    "        better = (0.5 * (approx + (num/approx)))\n",
    "    return better\n",
    "\n",
    "    \n",
    "print(\"The square root of \" + str(num) + \" is approx: \" + str(sqrt(num)))"
   ]
  },
  {
   "cell_type": "markdown",
   "metadata": {},
   "source": [
    "# Task 7 - Es:"
   ]
  },
  {
   "cell_type": "markdown",
   "metadata": {},
   "source": [
    "So here I have the actual python program listed below, which could be run as a program in the command line, while taking a txt filename as an arguement from the command line as well, ie: \"$ python es.py e.txt\" would cound the number of e's in the e.txt file. It won't run in Jupyter though. A version is saved as '.py' in the folder as well.\n",
    "\n",
    "Following that I have the same code repeated essentially, however the filename must be entered using a user's input. This is just to make marking this question directly on this Jupyter notebook easier, rather than having to run the code in the command line."
   ]
  },
  {
   "cell_type": "code",
   "execution_count": 3,
   "metadata": {},
   "outputs": [
    {
     "ename": "FileNotFoundError",
     "evalue": "[Errno 2] No such file or directory: '-f'",
     "output_type": "error",
     "traceback": [
      "\u001b[1;31m---------------------------------------------------------------------------\u001b[0m",
      "\u001b[1;31mFileNotFoundError\u001b[0m                         Traceback (most recent call last)",
      "\u001b[1;32m<ipython-input-3-c8f7fd3252b1>\u001b[0m in \u001b[0;36m<module>\u001b[1;34m\u001b[0m\n\u001b[0;32m     28\u001b[0m \u001b[1;33m\u001b[0m\u001b[0m\n\u001b[0;32m     29\u001b[0m \u001b[1;31m# create variable equal to output of function:\u001b[0m\u001b[1;33m\u001b[0m\u001b[1;33m\u001b[0m\u001b[1;33m\u001b[0m\u001b[0m\n\u001b[1;32m---> 30\u001b[1;33m \u001b[0mnumber\u001b[0m \u001b[1;33m=\u001b[0m \u001b[0mECounter\u001b[0m\u001b[1;33m(\u001b[0m\u001b[0mfileName\u001b[0m\u001b[1;33m)\u001b[0m\u001b[1;33m\u001b[0m\u001b[1;33m\u001b[0m\u001b[0m\n\u001b[0m\u001b[0;32m     31\u001b[0m \u001b[1;33m\u001b[0m\u001b[0m\n\u001b[0;32m     32\u001b[0m \u001b[1;31m# Finally print results:\u001b[0m\u001b[1;33m\u001b[0m\u001b[1;33m\u001b[0m\u001b[1;33m\u001b[0m\u001b[0m\n",
      "\u001b[1;32m<ipython-input-3-c8f7fd3252b1>\u001b[0m in \u001b[0;36mECounter\u001b[1;34m(fileName)\u001b[0m\n\u001b[0;32m     14\u001b[0m \u001b[1;32mdef\u001b[0m \u001b[0mECounter\u001b[0m\u001b[1;33m(\u001b[0m\u001b[0mfileName\u001b[0m\u001b[1;33m)\u001b[0m\u001b[1;33m:\u001b[0m\u001b[1;33m\u001b[0m\u001b[1;33m\u001b[0m\u001b[0m\n\u001b[0;32m     15\u001b[0m     \u001b[1;31m# Open the given file in read-text mode as 'f':\u001b[0m\u001b[1;33m\u001b[0m\u001b[1;33m\u001b[0m\u001b[1;33m\u001b[0m\u001b[0m\n\u001b[1;32m---> 16\u001b[1;33m     \u001b[1;32mwith\u001b[0m \u001b[0mopen\u001b[0m\u001b[1;33m(\u001b[0m\u001b[0mfileName\u001b[0m\u001b[1;33m,\u001b[0m \u001b[1;34m\"rt\"\u001b[0m\u001b[1;33m)\u001b[0m \u001b[1;32mas\u001b[0m \u001b[0mf\u001b[0m\u001b[1;33m:\u001b[0m\u001b[1;33m\u001b[0m\u001b[1;33m\u001b[0m\u001b[0m\n\u001b[0m\u001b[0;32m     17\u001b[0m         \u001b[1;31m# create variable equal to the text within the doc\u001b[0m\u001b[1;33m\u001b[0m\u001b[1;33m\u001b[0m\u001b[1;33m\u001b[0m\u001b[0m\n\u001b[0;32m     18\u001b[0m         \u001b[0mtext\u001b[0m \u001b[1;33m=\u001b[0m \u001b[0mf\u001b[0m\u001b[1;33m.\u001b[0m\u001b[0mread\u001b[0m\u001b[1;33m(\u001b[0m\u001b[1;33m)\u001b[0m\u001b[1;33m\u001b[0m\u001b[1;33m\u001b[0m\u001b[0m\n",
      "\u001b[1;31mFileNotFoundError\u001b[0m: [Errno 2] No such file or directory: '-f'"
     ]
    }
   ],
   "source": [
    "# python program that gets areguement from command line in the form of\n",
    "# a text doc and then counts the number of 'e's in the doc.\n",
    "\n",
    "#import sys module\n",
    "import sys\n",
    "\n",
    "# create variable that takes input from command line.\n",
    "# sys.argv allows us to treat the inputs on the command line as a list,\n",
    "# where sys.argv[0] would be the actual program, sys.argv[1] would be the \n",
    "# following input, (in this case the name of the text doc), etc.\n",
    "fileName = sys.argv[1]\n",
    "\n",
    "# Then we create a funtion that will take the above arguement and count \n",
    "# the number of e's in the doc.\n",
    "def ECounter(fileName):\n",
    "    # Open the given file in read-text mode as 'f':\n",
    "    with open(fileName, \"rt\") as f:\n",
    "        # create variable equal to the text within the doc\n",
    "        text = f.read()\n",
    "        # creat a counter starting at 0:\n",
    "        count = 0\n",
    "        # Use for loop to count number of 'e's in doc:\n",
    "        for letter in text:\n",
    "            if letter == 'e':\n",
    "                count += 1\n",
    "            elif letter == 'E':\n",
    "                count += 1\n",
    "        return count\n",
    "\n",
    "# create variable equal to output of function:\n",
    "number = ECounter(fileName)\n",
    "\n",
    "# Finally print results:\n",
    "print(\"Number of es in document: \" + str(number))"
   ]
  },
  {
   "cell_type": "code",
   "execution_count": 2,
   "metadata": {},
   "outputs": [
    {
     "name": "stdout",
     "output_type": "stream",
     "text": [
      "Please enter text filename: e.txt\n",
      "Number of es in document: 5\n"
     ]
    }
   ],
   "source": [
    "# Get filename using input instead:\n",
    "fileName = input(\"Please enter text filename: \")\n",
    "\n",
    "def ECounter(fileName):\n",
    "    with open(fileName, \"rt\") as f:\n",
    "        text = f.read()\n",
    "        count = 0\n",
    "        for letter in text:\n",
    "            if letter == 'e':\n",
    "                count += 1\n",
    "            elif letter == 'E':\n",
    "                count += 1\n",
    "        return count\n",
    "\n",
    "number = ECounter(fileName)\n",
    "    \n",
    "print(\"Number of es in document: \" + str(number))"
   ]
  },
  {
   "cell_type": "markdown",
   "metadata": {},
   "source": [
    "# Task 8 - Plot:"
   ]
  },
  {
   "cell_type": "code",
   "execution_count": 49,
   "metadata": {},
   "outputs": [
    {
     "data": {
      "text/plain": [
       "<function matplotlib.pyplot.show(*args, **kw)>"
      ]
     },
     "execution_count": 49,
     "metadata": {},
     "output_type": "execute_result"
    },
    {
     "data": {
      "image/png": "[encoded data removed]",
      "text/plain": [
       "<Figure size 432x288 with 1 Axes>"
      ]
     },
     "metadata": {},
     "output_type": "display_data"
    }
   ],
   "source": [
    "# Program to plot square, cubed and quartic functions in given range (0, 4).\n",
    "\n",
    "# Import numpy for arrays and matplotlib for plotting\n",
    "# Give them abbreviated names for convenience.\n",
    "import numpy as np\n",
    "import matplotlib.pyplot as plt\n",
    "\n",
    "# Create an array for given range\n",
    "xpoints = np.array(range(0, 4))\n",
    "# represent squared, cubed and quartic functions mathematically:\n",
    "x2 = xpoints * xpoints\n",
    "x3 = xpoints * xpoints * xpoints\n",
    "x4 = xpoints * xpoints * xpoints * xpoints\n",
    "\n",
    "#PLot each line using different styles & colors:\n",
    "plt.plot(x2, linestyle = '--', color = 'blue', marker = 'o', label = \"x**2\")\n",
    "plt.plot(x3, linestyle = '--', color = '#444444', marker = '.', label = \"x**3\")\n",
    "plt.plot(x4, linestyle = '--', color = '#5a7d9a', marker = 'x', label = \"x**4\")\n",
    "# Add legend\n",
    "plt.legend()\n",
    "# Add title:\n",
    "plt.title(\"Power functions:\")\n",
    "# Add axis labels:\n",
    "plt.xlabel(\"xaxis\")\n",
    "plt.ylabel(\"yaxis\")\n",
    "# Use a specific style:\n",
    "plt.style.use('fivethirtyeight')\n",
    "# show is unnecessary in Jupyter, but needed in python program to see plot.\n",
    "plt.show"
   ]
  },
  {
   "cell_type": "code",
   "execution_count": null,
   "metadata": {},
   "outputs": [],
   "source": []
  }
 ],
 "metadata": {
  "kernelspec": {
   "display_name": "Python 3",
   "language": "python",
   "name": "python3"
  },
  "language_info": {
   "codemirror_mode": {
    "name": "ipython",
    "version": 3
   },
   "file_extension": ".py",
   "mimetype": "text/x-python",
   "name": "python",
   "nbconvert_exporter": "python",
   "pygments_lexer": "ipython3",
   "version": "3.8.3"
  }
 },
 "nbformat": 4,
 "nbformat_minor": 4
}
